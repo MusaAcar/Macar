import math
import random

def hesapla_mesafe(hiz, aci, yukseklik):
    aci_radyan = math.radians(aci)
    t = (2 * hiz * math.sin(aci_radyan)) / 9.81
    mesafe = hiz * math.cos(aci_radyan) * t
    return mesafe

def top_atma():
    numara = int(input("Okul numaranızın son 2 hanesini girin: "))
    aci = 30

    hedef = 20000 + 200 * random.randint(-10, 10)
    hedef_baslangic = hedef
    hedef_bitis = hedef + 1000 + 100 * random.randint(-2, 2)

    hiz_min = 330
    hiz_max = 1800
    hiz = (hiz_min + hiz_max) / 2

    atis_sayisi = 0
    hedef_vuruldu = False

    while not hedef_vuruldu:
        atis_sayisi += 1
        mesafe = hesapla_mesafe(hiz, aci, numara)
        
        if hedef_baslangic <= mesafe <= hedef_bitis:
            hedef_vuruldu = True
            print(f"\nHedef vuruldu! Atış sayısı: {atis_sayisi}")
            print(f"Gerekli hız: {hiz:.2f} m/s")
        else:
            if mesafe < hedef_baslangic:
                print("önüne düştü")
                hiz_min = hiz
            else:
                print("arkasına düştü")
                hiz_max = hiz
            hiz = (hiz_min + hiz_max) / 2